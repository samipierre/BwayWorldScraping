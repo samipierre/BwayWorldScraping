{
 "cells": [
  {
   "cell_type": "markdown",
   "metadata": {},
   "source": [
    "# Gather Tony Award Data"
   ]
  },
  {
   "cell_type": "code",
   "execution_count": 3,
   "metadata": {},
   "outputs": [
    {
     "name": "stdout",
     "output_type": "stream",
     "text": [
      "Requirement already satisfied: lxml in c:\\users\\pierr\\anaconda3\\lib\\site-packages (4.5.2)\n",
      "Requirement already satisfied: xlrd in c:\\users\\pierr\\anaconda3\\lib\\site-packages (1.2.0)\n",
      "Requirement already satisfied: openpyxl in c:\\users\\pierr\\anaconda3\\lib\\site-packages (3.0.4)\n",
      "Requirement already satisfied: et-xmlfile in c:\\users\\pierr\\anaconda3\\lib\\site-packages (from openpyxl) (1.0.1)\n",
      "Requirement already satisfied: jdcal in c:\\users\\pierr\\anaconda3\\lib\\site-packages (from openpyxl) (1.4.1)\n"
     ]
    }
   ],
   "source": [
    "! pip3 install lxml \n",
    "! pip3 install xlrd\n",
    "!pip3 install openpyxl\n",
    "import pandas as pd\n",
    "import lxml\n",
    "import xlrd\n",
    "import os\n",
    "import numpy as np"
   ]
  },
  {
   "cell_type": "markdown",
   "metadata": {},
   "source": [
    "### Import List of Musical winners 2011-2019 with converted names\n"
   ]
  },
  {
   "cell_type": "code",
   "execution_count": 4,
   "metadata": {},
   "outputs": [
    {
     "data": {
      "text/plain": [
       "'test of DRACULA'"
      ]
     },
     "execution_count": 4,
     "metadata": {},
     "output_type": "execute_result"
    }
   ],
   "source": [
    "#import list of names as they appear in website url - careful of punctuation\n",
    "list_of_shows = pd.read_excel(\"C:/Users/pierr/Desktop/Sta497/TonyAnalysisData/Tony_old_new_shownames.xlsx\")\n",
    "test1 = \"test of \" + list_of_shows[\"new_names\"][1]\n",
    "test1\n",
    "\n"
   ]
  },
  {
   "cell_type": "markdown",
   "metadata": {},
   "source": [
    "## Get a list of shows from 2011-2019"
   ]
  },
  {
   "cell_type": "code",
   "execution_count": 7,
   "metadata": {},
   "outputs": [],
   "source": [
    "\n",
    "list_shows = list(list_of_shows[\"new_names\"])\n",
    "unique_list = []\n",
    "for x in list_shows: \n",
    "        # check if exists in unique_list or not \n",
    "    if x not in unique_list: \n",
    "            unique_list.append(x)\n",
    "#list_of_shows_un = np.unique(list_of_shows[\"new_names\"])\n"
   ]
  },
  {
   "cell_type": "markdown",
   "metadata": {},
   "source": [
    "Find shows are in current folder"
   ]
  },
  {
   "cell_type": "code",
   "execution_count": 6,
   "metadata": {},
   "outputs": [],
   "source": [
    "os.chdir('C:\\\\Users\\\\pierr\\\\Desktop\\\\Sta497\\\\Tony_shows_Excel_Data_IncNotNom')\n",
    "showsInFolder= []\n",
    "for root, dirs, files in os.walk(\".\"):\n",
    "    for filename in files:\n",
    "        showsInFolder.append(filename[:-4])"
   ]
  },
  {
   "cell_type": "markdown",
   "metadata": {},
   "source": [
    "Compare with shows in the old new shows nameslist "
   ]
  },
  {
   "cell_type": "code",
   "execution_count": 9,
   "metadata": {},
   "outputs": [
    {
     "data": {
      "text/plain": [
       "['N-A[1]', nan, 1984, 'MOULIN-ROUGE-', 'THE-HEIGHT-OF-THE_STORM']"
      ]
     },
     "execution_count": 9,
     "metadata": {},
     "output_type": "execute_result"
    }
   ],
   "source": [
    "#checks if show in old_new show names list is already in the folder\n",
    "missing = []\n",
    "for show in unique_list:\n",
    "    if show in showsInFolder:\n",
    "        pass\n",
    "    else:\n",
    "        missing.append(show)\n",
    "missing"
   ]
  },
  {
   "cell_type": "code",
   "execution_count": 10,
   "metadata": {},
   "outputs": [
    {
     "name": "stdout",
     "output_type": "stream",
     "text": [
      "N-A[1]\n",
      "nan\n",
      "1984\n",
      "MOULIN-ROUGE-\n",
      "THE-HEIGHT-OF-THE_STORM\n"
     ]
    }
   ],
   "source": [
    "# adds shows that are missing\n",
    "missing2 = []\n",
    "for i in range(0, len(missing)):\n",
    "    try:\n",
    "        showName = missing[i]\n",
    "        url = \"https://www.broadwayworld.com/grossesshowexcel.cfm?show=\" + showName + \"&all=on&year=0\"\n",
    "        showi = pd.DataFrame(pd.read_html(url)[0])\n",
    "        showi.to_csv(\"C:/Users/pierr/Desktop/Sta497/Tony_shows_Excel_Data_IncNotNom/\" + showName + \".csv\")\n",
    "\n",
    "    except:\n",
    "        print(missing[i])\n",
    "        \n"
   ]
  },
  {
   "cell_type": "markdown",
   "metadata": {},
   "source": [
    "The shows above were not available on Broadway World or were eligable for 2020 awards"
   ]
  },
  {
   "cell_type": "markdown",
   "metadata": {},
   "source": [
    "including non nomination data 2011-2019"
   ]
  },
  {
   "cell_type": "code",
   "execution_count": null,
   "metadata": {},
   "outputs": [],
   "source": [
    "#import list of names as they appear in website url - careful of punctuation\n",
    "list_of_shows = pd.read_excel(\"C:/Users/pierr/Desktop/Sta497/Tony_Show_NotNomInc.24.11.2020.xlsx\")\n",
    "test1 = \"test of \" + list_of_shows[\"new_names\"][1]\n",
    "\n",
    "for i in range(0, len(list_of_shows)):\n",
    "    try:\n",
    "        showName = list_of_shows[\"new_names\"][i]\n",
    "        url = \"https://www.broadwayworld.com/grossesshowexcel.cfm?show=\" + showName + \"&all=on&year=0\"\n",
    "        showi = pd.DataFrame(pd.read_html(url)[0])\n",
    "        showi.to_csv(\"C:/Users/pierr/Desktop/Sta497/Tony_shows_Excel_Data_IncNotNom/\" + showName + \".csv\")\n",
    "\n",
    "    except:\n",
    "        print(list_of_shows[\"new_names\"][i])\n",
    "        print(i)"
   ]
  },
  {
   "cell_type": "code",
   "execution_count": null,
   "metadata": {},
   "outputs": [],
   "source": [
    "missing[1]"
   ]
  },
  {
   "cell_type": "code",
   "execution_count": 3,
   "metadata": {},
   "outputs": [
    {
     "name": "stdout",
     "output_type": "stream",
     "text": [
      "KISS-MEKATE\n"
     ]
    }
   ],
   "source": [
    "    try:\n",
    "        showName = \"KISS-MEKATE\"\n",
    "\n",
    "        url = \"https://www.broadwayworld.com/grossesshowexcel.cfm?show=\" + showName + \"&all=on&year=0\"\n",
    "        url = \"https://www.broadwayworld.com/grossesshowexcel.cfm?show=KISS-MEKATE&all=on&year=0\"\n",
    "        showi = pd.DataFrame(pd.read_html(url)[0])\n",
    "        showi.to_csv(\"C:/Users/pierr/Desktop/Sta497/Tony_shows_Excel_Data_IncNotNom/\" + showName + \".csv\")\n",
    "\n",
    "    except:\n",
    "        print(showName)\n",
    "        #print(i)"
   ]
  },
  {
   "cell_type": "code",
   "execution_count": null,
   "metadata": {},
   "outputs": [],
   "source": []
  }
 ],
 "metadata": {
  "kernelspec": {
   "display_name": "Python 3",
   "language": "python",
   "name": "python3"
  },
  "language_info": {
   "codemirror_mode": {
    "name": "ipython",
    "version": 3
   },
   "file_extension": ".py",
   "mimetype": "text/x-python",
   "name": "python",
   "nbconvert_exporter": "python",
   "pygments_lexer": "ipython3",
   "version": "3.8.3"
  }
 },
 "nbformat": 4,
 "nbformat_minor": 4
}
